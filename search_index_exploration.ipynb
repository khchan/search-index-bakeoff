{
 "cells": [
  {
   "cell_type": "markdown",
   "metadata": {},
   "source": [
    "# Search Index Management - Exploratory Notebook\n",
    "\n",
    "This notebook demonstrates how to use the search index writer and reader clients to manage LanceDB search indices for financial data analysis.\n",
    "\n",
    "## Overview\n",
    "\n",
    "- **Writer Service**: Creates and manages tables from Vena model hierarchy data\n",
    "- **Reader Service**: Provides hybrid search capabilities over the indexed data\n",
    "- **Multi-tenant**: Supports multiple tenants with isolated data"
   ]
  },
  {
   "cell_type": "markdown",
   "metadata": {},
   "source": [
    "## Configuration Variables\n",
    "\n",
    "Configure these variables for your exploration:"
   ]
  },
  {
   "cell_type": "code",
   "execution_count": 1,
   "metadata": {},
   "outputs": [
    {
     "name": "stdout",
     "output_type": "stream",
     "text": [
      "Configuration:\n",
      "  Tenant ID: 1466591000091951104\n",
      "  Model IDs: [1466593582621392896, 1466596072087486464]\n",
      "  Writer Service: http://localhost:8001\n",
      "  Reader Service: http://localhost:8002\n"
     ]
    }
   ],
   "source": [
    "import os\n",
    "from dotenv import load_dotenv\n",
    "\n",
    "load_dotenv(override=True)\n",
    "\n",
    "# Configuration variables - modify these as needed\n",
    "TENANT_ID = 1466591000091951104  # Tenant identifier\n",
    "MODEL_IDS = [1466593582621392896, 1466596072087486464]\n",
    "AUTH = (os.getenv(\"VENA_USER\"), os.getenv(\"VENA_KEY\"))\n",
    "\n",
    "# Service URLs\n",
    "WRITER_URL = \"http://localhost:8001\"\n",
    "READER_URL = \"http://localhost:8002\"\n",
    "\n",
    "# Search parameters\n",
    "SEARCH_QUERY = \"revenue\"  # Example search query\n",
    "SEARCH_LIMIT = 5          # Number of results to return\n",
    "\n",
    "print(f\"Configuration:\")\n",
    "print(f\"  Tenant ID: {TENANT_ID}\")\n",
    "print(f\"  Model IDs: {MODEL_IDS}\")\n",
    "print(f\"  Writer Service: {WRITER_URL}\")\n",
    "print(f\"  Reader Service: {READER_URL}\")"
   ]
  },
  {
   "cell_type": "markdown",
   "metadata": {},
   "source": [
    "## Import Dependencies"
   ]
  },
  {
   "cell_type": "code",
   "execution_count": 2,
   "metadata": {},
   "outputs": [
    {
     "name": "stdout",
     "output_type": "stream",
     "text": [
      "✓ Dependencies imported successfully\n"
     ]
    }
   ],
   "source": [
    "import sys\n",
    "from typing import List, Dict, Any\n",
    "\n",
    "# Add project root to Python path\n",
    "sys.path.append('.')\n",
    "\n",
    "# Import the clients\n",
    "from clients.writer_client import SearchIndexWriterClient\n",
    "from clients.reader_client import SearchIndexReaderClient\n",
    "\n",
    "print(\"✓ Dependencies imported successfully\")"
   ]
  },
  {
   "cell_type": "markdown",
   "metadata": {},
   "source": [
    "## Health Checks\n",
    "\n",
    "First, let's verify that both services are running:"
   ]
  },
  {
   "cell_type": "code",
   "execution_count": 3,
   "metadata": {},
   "outputs": [
    {
     "name": "stdout",
     "output_type": "stream",
     "text": [
      "Checking service health...\n",
      "✓ Writer Service: {'status': 'healthy', 'timestamp': '2025-07-14T09:01:13.037685', 'version': '1.0.0', 'dependencies': {'azure_openai': 'healthy', 'vena_api': 'healthy', 'lancedb': 'healthy'}}\n",
      "✓ Reader Service: {'status': 'healthy', 'timestamp': '2025-07-14T09:01:13.048842', 'version': '1.0.0', 'dependencies': {'azure_openai': 'healthy', 'lancedb': 'healthy'}}\n"
     ]
    }
   ],
   "source": [
    "def check_services():\n",
    "    \"\"\"Check if both services are healthy.\"\"\"\n",
    "    print(\"Checking service health...\")\n",
    "    \n",
    "    try:\n",
    "        # Check writer service\n",
    "        with SearchIndexWriterClient(base_url=WRITER_URL, auth=AUTH) as writer:\n",
    "            writer_health = writer.health_check()\n",
    "            print(f\"✓ Writer Service: {writer_health}\")\n",
    "    except Exception as e:\n",
    "        print(f\"✗ Writer Service: {e}\")\n",
    "        return False\n",
    "    \n",
    "    try:\n",
    "        # Check reader service\n",
    "        with SearchIndexReaderClient(base_url=READER_URL, auth=AUTH) as reader:\n",
    "            reader_health = reader.health_check()\n",
    "            print(f\"✓ Reader Service: {reader_health}\")\n",
    "    except Exception as e:\n",
    "        print(f\"✗ Reader Service: {e}\")\n",
    "        return False\n",
    "    \n",
    "    return True\n",
    "\n",
    "services_healthy = check_services()"
   ]
  },
  {
   "cell_type": "markdown",
   "metadata": {},
   "source": [
    "## Writer Service Operations\n",
    "\n",
    "### List Existing Tables"
   ]
  },
  {
   "cell_type": "code",
   "execution_count": 4,
   "metadata": {},
   "outputs": [
    {
     "name": "stdout",
     "output_type": "stream",
     "text": [
      "No tables found for tenant '1466591000091951104'\n"
     ]
    }
   ],
   "source": [
    "def list_tables():\n",
    "    \"\"\"List all tables for the configured tenant.\"\"\"\n",
    "    with SearchIndexWriterClient(base_url=WRITER_URL, auth=AUTH) as writer:\n",
    "        tables = writer.list_tables(tenant_id=TENANT_ID)\n",
    "        \n",
    "        if tables:\n",
    "            print(f\"Found {len(tables)} tables for tenant '{TENANT_ID}':\")\n",
    "            for table in tables:\n",
    "                print(table)\n",
    "        else:\n",
    "            print(f\"No tables found for tenant '{TENANT_ID}'\")\n",
    "        \n",
    "        return tables\n",
    "\n",
    "if services_healthy:\n",
    "    existing_tables = list_tables()\n",
    "else:\n",
    "    print(\"Skipping table listing - services not healthy\")"
   ]
  },
  {
   "cell_type": "markdown",
   "metadata": {},
   "source": [
    "### Create a New Table\n",
    "\n",
    "This will fetch data from the Vena API and create a new search index table:"
   ]
  },
  {
   "cell_type": "code",
   "execution_count": 5,
   "metadata": {},
   "outputs": [
    {
     "name": "stdout",
     "output_type": "stream",
     "text": [
      "Creating table for tenant '1466591000091951104' with model ID 1466593582621392896...\n",
      "✓ Table created successfully:\n",
      "  Table name: hierarchies_1466593582621392896\n",
      "Creating table for tenant '1466591000091951104' with model ID 1466596072087486464...\n",
      "✓ Table created successfully:\n",
      "  Table name: hierarchies_1466596072087486464\n"
     ]
    }
   ],
   "source": [
    "def create_table(model_id: int):\n",
    "    \"\"\"Create a new table from Vena model hierarchy data.\"\"\"\n",
    "    print(f\"Creating table for tenant '{TENANT_ID}' with model ID {model_id}...\")\n",
    "    \n",
    "    with SearchIndexWriterClient(base_url=WRITER_URL, auth=AUTH) as writer:\n",
    "        try:\n",
    "            response = writer.create_table(\n",
    "                tenant_id=TENANT_ID,\n",
    "                model_id=model_id,\n",
    "                force_recreate=True  # Set to True to force recreation\n",
    "            )\n",
    "            \n",
    "            print(f\"✓ Table created successfully:\")\n",
    "            print(f\"  Table name: {response.table_name}\")\n",
    "\n",
    "            return response\n",
    "            \n",
    "        except Exception as e:\n",
    "            print(f\"✗ Error creating table: {e}\")\n",
    "            return None\n",
    "\n",
    "# Uncomment the following lines to create a table\n",
    "if services_healthy:\n",
    "    for model_id in MODEL_IDS:\n",
    "        table_response = create_table(model_id)\n",
    "else:\n",
    "    print(\"Skipping table creation - services not healthy\")"
   ]
  },
  {
   "cell_type": "markdown",
   "metadata": {},
   "source": [
    "## Reader Service Operations\n",
    "\n",
    "### Hybrid Search\n",
    "\n",
    "Perform semantic search on the indexed data:"
   ]
  },
  {
   "cell_type": "code",
   "execution_count": 6,
   "metadata": {},
   "outputs": [
    {
     "name": "stdout",
     "output_type": "stream",
     "text": [
      "Performing hybrid search for model 1466593582621392896 with query: 'revenue'\n",
      "✓ Found 5 results\n",
      "member_id='1514408816967024640_651631428002119680' member_name='Revenue' member_alias='Revenue' dimension='Account' score=0.03333333507180214 search_text='Revenue'\n",
      "member_id='1514408816967024640_814709306394148865' member_name='CF - Change in Deferred Revenue' member_alias='CF - Change in Deferred Revenue' dimension='Account' score=0.032522473484277725 search_text='CF - Change in Deferred Revenue'\n",
      "member_id='1514408816967024640_651631427951788032' member_name='Net Income' member_alias='Net Income' dimension='Account' score=0.016393441706895828 search_text='Net Income'\n",
      "member_id='1514408816967024640_691121205046280192' member_name='Other Income/Expense' member_alias='Other Income/Expense' dimension='Account' score=0.01587301678955555 search_text='Other Income/Expense'\n",
      "member_id='1514408816967024640_691119840308494336' member_name='EBIT' member_alias='EBIT' dimension='Account' score=0.015625 search_text='EBIT'\n",
      "Performing hybrid search for model 1466596072087486464 with query: 'revenue'\n",
      "✓ Found 5 results\n",
      "member_id='1514408816967024640_651631428002119680' member_name='Revenue' member_alias='Revenue' dimension='Account' score=0.03333333507180214 search_text='Revenue'\n",
      "member_id='1514408816967024640_814709306394148865' member_name='CF - Change in Deferred Revenue' member_alias='CF - Change in Deferred Revenue' dimension='Account' score=0.032522473484277725 search_text='CF - Change in Deferred Revenue'\n",
      "member_id='1514408816967024640_651631427951788032' member_name='Net Income' member_alias='Net Income' dimension='Account' score=0.016393441706895828 search_text='Net Income'\n",
      "member_id='1514408816967024640_691121205046280192' member_name='Other Income/Expense' member_alias='Other Income/Expense' dimension='Account' score=0.01587301678955555 search_text='Other Income/Expense'\n",
      "member_id='1514408816967024640_691119840308494336' member_name='EBIT' member_alias='EBIT' dimension='Account' score=0.015625 search_text='EBIT'\n"
     ]
    }
   ],
   "source": [
    "def perform_hybrid_search(model_id: int, query: str, limit: int = 5, dimension_filter: str = None):\n",
    "    \"\"\"Perform hybrid search on the model.\"\"\"\n",
    "    print(f\"Performing hybrid search for model {model_id} with query: '{query}'\")\n",
    "    \n",
    "    with SearchIndexReaderClient(base_url=READER_URL, auth=AUTH) as reader:\n",
    "        try:\n",
    "            results = reader.hybrid_search(\n",
    "                tenant_id=TENANT_ID,\n",
    "                model_id=model_id,\n",
    "                query=query,\n",
    "                limit=limit,\n",
    "                dimension_filter=dimension_filter\n",
    "            )\n",
    "            \n",
    "            print(f\"✓ Found {len(results.results)} results\")\n",
    "            for result in results.results:\n",
    "                print(result)\n",
    "                \n",
    "            return results\n",
    "            \n",
    "        except Exception as e:\n",
    "            print(f\"✗ Error performing search: {e}\")\n",
    "            return None\n",
    "\n",
    "# Example searches\n",
    "if services_healthy:\n",
    "    # Basic search\n",
    "    for model_id in MODEL_IDS:\n",
    "        search_results = perform_hybrid_search(model_id, SEARCH_QUERY, limit=SEARCH_LIMIT)\n",
    "    \n",
    "    # Search with dimension filter (uncomment to try)\n",
    "    # filtered_results = perform_hybrid_search(\"cost\", limit=3, dimension_filter=\"Account\")\n",
    "else:\n",
    "    print(\"Skipping search - services not healthy\")"
   ]
  },
  {
   "cell_type": "markdown",
   "metadata": {},
   "source": [
    "## Table Management\n",
    "\n",
    "### Delete Tables (Use with caution!)"
   ]
  },
  {
   "cell_type": "code",
   "execution_count": null,
   "metadata": {},
   "outputs": [],
   "source": [
    "def delete_table(table_name: str, confirm: bool = False):\n",
    "    \"\"\"Delete a table. Use with caution!\"\"\"\n",
    "    if not confirm:\n",
    "        print(\"⚠️  Table deletion requires confirmation. Set confirm=True to proceed.\")\n",
    "        return False\n",
    "    \n",
    "    with SearchIndexWriterClient(base_url=WRITER_URL, auth=AUTH) as writer:\n",
    "        try:\n",
    "            success = writer.delete_table(tenant_id=TENANT_ID, table_name=table_name)\n",
    "            \n",
    "            if success:\n",
    "                print(f\"✓ Table '{table_name}' deleted successfully\")\n",
    "            else:\n",
    "                print(f\"✗ Failed to delete table '{table_name}'\")\n",
    "                \n",
    "            return success\n",
    "            \n",
    "        except Exception as e:\n",
    "            print(f\"✗ Error deleting table: {e}\")\n",
    "            return False\n",
    "\n",
    "# Example (commented out for safety)\n",
    "# WARNING: This will permanently delete the table!\n",
    "if services_healthy:\n",
    "    for model_id in MODEL_IDS:\n",
    "        delete_table(f\"hierarchies_{model_id}\", confirm=True)\n",
    "else:\n",
    "    print(\"Skipping table deletion - services not healthy\")"
   ]
  }
 ],
 "metadata": {
  "kernelspec": {
   "display_name": ".venv",
   "language": "python",
   "name": "python3"
  },
  "language_info": {
   "codemirror_mode": {
    "name": "ipython",
    "version": 3
   },
   "file_extension": ".py",
   "mimetype": "text/x-python",
   "name": "python",
   "nbconvert_exporter": "python",
   "pygments_lexer": "ipython3",
   "version": "3.13.5"
  }
 },
 "nbformat": 4,
 "nbformat_minor": 4
}
